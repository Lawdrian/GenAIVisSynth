{
 "cells": [
  {
   "cell_type": "markdown",
   "metadata": {},
   "source": [
    "# Exercise 11 Part 2: Vision Transformers\n",
    "**Summer Semester 2024**\n",
    "\n",
    "**Author**: Stefan Baumann (stefan.baumann@lmu.de)"
   ]
  },
  {
   "cell_type": "markdown",
   "metadata": {},
   "source": [
    "### Task: Implement & Train a ViT\n",
    "Refer to the lecture and the original ViT paper (*AN IMAGE IS WORTH 16X16 WORDS: TRANSFORMERS FOR IMAGE RECOGNITION AT SCALE*, Dosovitskiy et al., 2020) for details. The naming of the hyperparameters is as in the aforementioned paper.\n",
    "\n",
    "Similar to Part 1, you're expected to implement each block yourself, although you're allowed to use blocks like `torch.nn.MultiheadAttention`, `torch.nn.Linear`, etc. Implement the blocks as in the original ViT paper. No usage of things such as full pre-made FFN/self-attention blocks or full transformer implementations like `torchvision.models.vision_transformer.VisionTransformer` is allowed for this exercise. You're expected to do full vectorized implementations in native PyTorch (again, einops is allowed) without relying on Python for loops for things such as patching etc.\n",
    "\n",
    "Some relevant details:\n",
    "- For simplicity of implementation, we will use a randomly (Gaussian with mean 0 and variance 1) initialized *learnable* positional embedding, not a Fourier/sinusoidal one.\n",
    "- Don't forget about all of the layer norms!\n",
    "- Consider the `batch_first` attribute of `nn.MultiheadAttention`, should you use that class\n",
    "- We'll make the standard assumption that $\\mathrm{dim}_\\text{head} = \\mathrm{dim}_\\text{hidden} / N_\\text{heads}$"
   ]
  },
  {
   "cell_type": "code",
   "execution_count": 1,
   "metadata": {},
   "outputs": [
    {
     "name": "stdout",
     "output_type": "stream",
     "text": [
      "Using device \"cuda\".\n"
     ]
    },
    {
     "name": "stderr",
     "output_type": "stream",
     "text": [
      "c:\\Users\\adria\\anaconda3\\envs\\genai\\Lib\\site-packages\\tqdm\\auto.py:21: TqdmWarning: IProgress not found. Please update jupyter and ipywidgets. See https://ipywidgets.readthedocs.io/en/stable/user_install.html\n",
      "  from .autonotebook import tqdm as notebook_tqdm\n"
     ]
    }
   ],
   "source": [
    "import math\n",
    "\n",
    "import torch\n",
    "import torch.nn as nn\n",
    "import torch.nn.functional as F\n",
    "import torchvision.transforms as T\n",
    "from torchvision.datasets import CIFAR10\n",
    "from torch.utils.data import DataLoader\n",
    "import matplotlib.pyplot as plt\n",
    "from tqdm.auto import tqdm\n",
    "\n",
    "# Optional\n",
    "import einops\n",
    "\n",
    "device = 'mps' if torch.backends.mps.is_available() else ('cuda' if torch.cuda.is_available() else 'cpu')\n",
    "print(f'Using device \"{device}\".')"
   ]
  },
  {
   "cell_type": "code",
   "execution_count": 38,
   "metadata": {},
   "outputs": [],
   "source": [
    "class ResidualModule(nn.Module):\n",
    "    def __init__(\n",
    "            self,\n",
    "            inner_module: nn.Module\n",
    "        ):\n",
    "        super().__init__()\n",
    "        self.inner_module = inner_module\n",
    "\n",
    "    def forward(self, x: torch.Tensor) -> torch.Tensor:\n",
    "        return x + self.inner_module(x)\n",
    "\n",
    "class FeedForwardBlock(nn.Module):\n",
    "    # TODO: Student (1P)\n",
    "    # Tip: Dropout goes after each linear layer in the feedforward block\n",
    "    def __init__(self, in_channel, hidden_channel, out_channel, p_dropout):\n",
    "        super().__init__()\n",
    "        \n",
    "        self.fc1 = nn.Linear(in_channel, hidden_channel)\n",
    "        self.dropout = nn.Dropout(p=p_dropout)\n",
    "        self.activation = nn.GELU()\n",
    "        self.fc2 = nn.Linear(hidden_channel, out_channel)\n",
    "    \n",
    "    def forward(self, x: torch.Tensor) -> torch.Tensor:\n",
    "        out = self.fc1(x)\n",
    "        out = self.dropout(out)\n",
    "        out = self.activation(out)\n",
    "        out = self.fc2(out)\n",
    "        out = self.dropout(out)\n",
    "        return out\n",
    "        \n",
    "    \n",
    "\n",
    "\n",
    "class SelfAttentionTransformerBlock(nn.Module):\n",
    "    # TODO: Student (2P)\n",
    "    # Should contain one self-attention block and use a FeedForwardBlock instance for the mlp\n",
    "    def __init__(self, n_heads, p_dropout, mlp_size, hidden_size):\n",
    "        super().__init__()\n",
    "\n",
    "        self.norm1 = nn.LayerNorm(hidden_size)\n",
    "        # set batch_first to true since we have the dimension: (batch_sizer, seq_length, embedding_dim)\n",
    "        self.attention = nn.MultiheadAttention(embed_dim=hidden_size, num_heads=n_heads, batch_first=True)\n",
    "        \n",
    "        self.norm2 = nn.LayerNorm(hidden_size)\n",
    "        self.mlp = FeedForwardBlock(in_channel=hidden_size, hidden_channel=mlp_size, out_channel=hidden_size, p_dropout=p_dropout)\n",
    "\n",
    "\n",
    "    def forward(self, x):\n",
    "        # Attention part\n",
    "        x_norm = self.norm1(x)\n",
    "        attn_output, _ = self.attention(x_norm, x_norm, x_norm) # do not take the weights\n",
    "        x = x + attn_output\n",
    "\n",
    "        # MLP part\n",
    "        x_norm = self.norm2(x)\n",
    "        out = self.mlp(x_norm)\n",
    "        out = x + out\n",
    "\n",
    "        return out\n",
    "\n",
    "\n",
    "\n",
    "class VisionTransformer(nn.Module):\n",
    "    def __init__(\n",
    "            self,\n",
    "            in_channels: int = 3,\n",
    "            patch_size: int = 4,\n",
    "            image_size: int = 32,\n",
    "            layers: int = 6,\n",
    "            hidden_size: int = 256,\n",
    "            mlp_size: int = 512,\n",
    "            n_heads: int = 8,\n",
    "            num_classes: int = 10,\n",
    "            p_dropout: float = 0.2,\n",
    "        ):\n",
    "        super().__init__()\n",
    "\n",
    "        # TODO: Student (2P)\n",
    "        self.patch_size = patch_size\n",
    "        self.hidden_size = hidden_size\n",
    "        self.num_patches = int(image_size / patch_size * image_size / patch_size)\n",
    "        self.token_length = int(self.patch_size ** 2 * in_channels)\n",
    "\n",
    "        # For patch generation\n",
    "        self.split = nn.Unfold(kernel_size=self.patch_size, stride=self.patch_size, padding=0).to(device)\n",
    "        self.project = nn.Linear(in_features=self.token_length, out_features=self.hidden_size).to(device)\n",
    "        # Draw from normal distribution with mean 0 variance 1\n",
    "        self.positional_embeddings = nn.Parameter(torch.randn(self.num_patches+1, self.hidden_size )).to(device) # +1 because of class_token\n",
    "\n",
    "        # Initialize as many encoders as there should be layers\n",
    "        self.encoders = nn.ModuleList([SelfAttentionTransformerBlock(hidden_size=hidden_size, n_heads=n_heads, p_dropout=p_dropout, mlp_size=mlp_size).to(device)\n",
    "        for _ in range(layers)\n",
    "        ])\n",
    "        # Label prediction\n",
    "        self.norm = nn.LayerNorm(hidden_size).to(device)\n",
    "        self.classifier = nn.Linear(in_features=hidden_size, out_features=num_classes).to(device)\n",
    "    \n",
    "    def patchify(self, x: torch.Tensor) -> torch.Tensor:\n",
    "        \"\"\"Takes an image tensor of shape (B, C, H, W) and transforms it to a sequence of patches (B, L, D), with a learnable linear projection after flattening,\n",
    "        and a standard additive positional encoding applied. Note that the activations in (Vision) Transformer implementations are\n",
    "        typically passed around in channels-_last_ layout, different from typical PyTorch norms.\n",
    "\n",
    "        Args:\n",
    "            x (torch.Tensor): Input tensor of shape (B, C, H, W)\n",
    "\n",
    "        Returns:\n",
    "            torch.Tensor: Embedded patch sequence tensor with positional encodings applied and shape (B, L, D)\n",
    "        \"\"\"\n",
    "        # TODO: Student (2P)\n",
    "        B, C, H, W = x.shape\n",
    "\n",
    "        # Calculate the number of tokens (L)\n",
    "        assert(H % self.patch_size == 0), \"The hight of the image is not divisable by the path_size\"\n",
    "        assert(W % self.patch_size == 0), \"The width of the image is not divisable by the path_size\"\n",
    "        num_patches_check = H / self.patch_size * W / self.patch_size\n",
    "        assert(self.num_patches == num_patches_check), \"self.image_size does not correlate with x dimensions\"\n",
    "\n",
    "        # Split the image tensor x into patches and pass through forward layer\n",
    "        x_split = self.split(x)\n",
    "        x_split = einops.rearrange(x_split, 'b d l -> b l d') # l = num patches, d = patch_length\n",
    "        tokens = self.project(x_split)\n",
    "\n",
    "        # Prepend a class token to the tokens\n",
    "        class_token = torch.zeros(1, 1, self.hidden_size).expand(B, -1, -1).to(device)\n",
    "        \n",
    "        # Concatenate the class token with the tokens along the num token dimension\n",
    "        tokens = torch.cat((class_token, tokens), dim=1) \n",
    "\n",
    "        # Add a position embedding for our tokens\n",
    "        tokens += self.positional_embeddings\n",
    "\n",
    "        return tokens\n",
    "\n",
    "    def forward(self, x: torch.Tensor) -> torch.Tensor:\n",
    "        \"\"\"Takes an image tensor of shape (B, C, H, W), applies patching, a standard ViT and then an output projection of the CLS token\n",
    "        to finally create a class logit prediction of shape (B, N_cls)\n",
    "\n",
    "        Args:\n",
    "            x (torch.Tensor): Input tensor of shape (B, C, H, W)\n",
    "\n",
    "        Returns:\n",
    "            torch.Tensor: Output logits of shape (B, N_cls)\n",
    "        \"\"\"\n",
    "        # TODO: Student (1P)\n",
    "        x = x.to(device)\n",
    "        tokens = self.patchify(x)\n",
    "\n",
    "        for encoder in self.encoders:\n",
    "            tokens = encoder(tokens)\n",
    "\n",
    "        tokens = self.norm(tokens)\n",
    "        class_token = tokens[:,0] # take the first token which corresponds to the class token\n",
    "        class_prediction = self.classifier(class_token)\n",
    "        return class_prediction\n",
    "\n"
   ]
  },
  {
   "cell_type": "markdown",
   "metadata": {},
   "source": [
    "### Training\n",
    "Do not modify this code!\n",
    "You are free to modify the four parameters in the first block, although no modifications should be necessary to achieve >70% validation accuracy with a correct transformer implementation."
   ]
  },
  {
   "cell_type": "code",
   "execution_count": 3,
   "metadata": {},
   "outputs": [],
   "source": [
    "DATASET_CACHE_DIR = './data'\n",
    "BATCH_SIZE = 128\n",
    "LR = 3e-4\n",
    "N_EPOCHS = 50\n",
    "\n",
    "import ssl\n",
    "ssl._create_default_https_context = ssl._create_unverified_context # I had to add this, or I would not have been possible to download the dataset"
   ]
  },
  {
   "cell_type": "code",
   "execution_count": 39,
   "metadata": {},
   "outputs": [
    {
     "name": "stdout",
     "output_type": "stream",
     "text": [
      "Files already downloaded and verified\n",
      "Files already downloaded and verified\n"
     ]
    },
    {
     "name": "stderr",
     "output_type": "stream",
     "text": [
      "Training (Epoch 1/50): 390it [00:28, 13.85it/s, loss=1.43]\n",
      "Validating: 79it [00:02, 26.51it/s]\n"
     ]
    },
    {
     "name": "stdout",
     "output_type": "stream",
     "text": [
      "Validation accuracy: 0.503\n"
     ]
    },
    {
     "name": "stderr",
     "output_type": "stream",
     "text": [
      "Training (Epoch 2/50): 390it [00:28, 13.86it/s, loss=1.18, val_acc=0.503]\n",
      "Validating: 79it [00:02, 27.02it/s]\n"
     ]
    },
    {
     "name": "stdout",
     "output_type": "stream",
     "text": [
      "Validation accuracy: 0.557\n"
     ]
    },
    {
     "name": "stderr",
     "output_type": "stream",
     "text": [
      "Training (Epoch 3/50): 390it [00:27, 14.03it/s, loss=1.25, val_acc=0.557] \n",
      "Validating: 79it [00:02, 27.03it/s]\n"
     ]
    },
    {
     "name": "stdout",
     "output_type": "stream",
     "text": [
      "Validation accuracy: 0.587\n"
     ]
    },
    {
     "name": "stderr",
     "output_type": "stream",
     "text": [
      "Training (Epoch 4/50): 390it [00:28, 13.63it/s, loss=1, val_acc=0.587]    \n",
      "Validating: 79it [00:02, 28.86it/s]\n"
     ]
    },
    {
     "name": "stdout",
     "output_type": "stream",
     "text": [
      "Validation accuracy: 0.609\n"
     ]
    },
    {
     "name": "stderr",
     "output_type": "stream",
     "text": [
      "Training (Epoch 5/50): 390it [00:29, 13.22it/s, loss=0.957, val_acc=0.609]\n",
      "Validating: 79it [00:03, 25.84it/s]\n"
     ]
    },
    {
     "name": "stdout",
     "output_type": "stream",
     "text": [
      "Validation accuracy: 0.627\n"
     ]
    },
    {
     "name": "stderr",
     "output_type": "stream",
     "text": [
      "Training (Epoch 6/50): 390it [00:28, 13.47it/s, loss=0.935, val_acc=0.627]\n",
      "Validating: 79it [00:03, 26.14it/s]\n"
     ]
    },
    {
     "name": "stdout",
     "output_type": "stream",
     "text": [
      "Validation accuracy: 0.635\n"
     ]
    },
    {
     "name": "stderr",
     "output_type": "stream",
     "text": [
      "Training (Epoch 7/50): 390it [00:28, 13.53it/s, loss=0.803, val_acc=0.635]\n",
      "Validating: 79it [00:03, 25.39it/s]\n"
     ]
    },
    {
     "name": "stdout",
     "output_type": "stream",
     "text": [
      "Validation accuracy: 0.637\n"
     ]
    },
    {
     "name": "stderr",
     "output_type": "stream",
     "text": [
      "Training (Epoch 8/50): 390it [00:28, 13.60it/s, loss=0.89, val_acc=0.637] \n",
      "Validating: 79it [00:02, 27.83it/s]\n"
     ]
    },
    {
     "name": "stdout",
     "output_type": "stream",
     "text": [
      "Validation accuracy: 0.655\n"
     ]
    },
    {
     "name": "stderr",
     "output_type": "stream",
     "text": [
      "Training (Epoch 9/50): 390it [00:28, 13.72it/s, loss=0.889, val_acc=0.655]\n",
      "Validating: 79it [00:02, 27.37it/s]\n"
     ]
    },
    {
     "name": "stdout",
     "output_type": "stream",
     "text": [
      "Validation accuracy: 0.661\n"
     ]
    },
    {
     "name": "stderr",
     "output_type": "stream",
     "text": [
      "Training (Epoch 10/50): 390it [00:27, 14.09it/s, loss=0.898, val_acc=0.661]\n",
      "Validating: 79it [00:02, 26.48it/s]\n"
     ]
    },
    {
     "name": "stdout",
     "output_type": "stream",
     "text": [
      "Validation accuracy: 0.671\n"
     ]
    },
    {
     "name": "stderr",
     "output_type": "stream",
     "text": [
      "Training (Epoch 11/50): 390it [00:28, 13.81it/s, loss=0.885, val_acc=0.671]\n",
      "Validating: 79it [00:02, 27.59it/s]\n"
     ]
    },
    {
     "name": "stdout",
     "output_type": "stream",
     "text": [
      "Validation accuracy: 0.683\n"
     ]
    },
    {
     "name": "stderr",
     "output_type": "stream",
     "text": [
      "Training (Epoch 12/50): 390it [00:27, 14.00it/s, loss=0.747, val_acc=0.683]\n",
      "Validating: 79it [00:02, 26.75it/s]\n"
     ]
    },
    {
     "name": "stdout",
     "output_type": "stream",
     "text": [
      "Validation accuracy: 0.687\n"
     ]
    },
    {
     "name": "stderr",
     "output_type": "stream",
     "text": [
      "Training (Epoch 13/50): 390it [00:28, 13.86it/s, loss=0.75, val_acc=0.687] \n",
      "Validating: 79it [00:02, 26.97it/s]\n"
     ]
    },
    {
     "name": "stdout",
     "output_type": "stream",
     "text": [
      "Validation accuracy: 0.691\n"
     ]
    },
    {
     "name": "stderr",
     "output_type": "stream",
     "text": [
      "Training (Epoch 14/50): 390it [00:27, 14.06it/s, loss=0.659, val_acc=0.691]\n",
      "Validating: 79it [00:02, 27.24it/s]\n"
     ]
    },
    {
     "name": "stdout",
     "output_type": "stream",
     "text": [
      "Validation accuracy: 0.691\n"
     ]
    },
    {
     "name": "stderr",
     "output_type": "stream",
     "text": [
      "Training (Epoch 15/50): 390it [00:27, 14.10it/s, loss=0.625, val_acc=0.691]\n",
      "Validating: 79it [00:02, 27.14it/s]\n"
     ]
    },
    {
     "name": "stdout",
     "output_type": "stream",
     "text": [
      "Validation accuracy: 0.703\n"
     ]
    },
    {
     "name": "stderr",
     "output_type": "stream",
     "text": [
      "Training (Epoch 16/50): 390it [00:26, 14.85it/s, loss=0.583, val_acc=0.703]\n",
      "Validating: 79it [00:02, 28.84it/s]\n"
     ]
    },
    {
     "name": "stdout",
     "output_type": "stream",
     "text": [
      "Validation accuracy: 0.704\n"
     ]
    },
    {
     "name": "stderr",
     "output_type": "stream",
     "text": [
      "Training (Epoch 17/50): 390it [00:26, 14.73it/s, loss=0.749, val_acc=0.704]\n",
      "Validating: 79it [00:02, 29.35it/s]\n"
     ]
    },
    {
     "name": "stdout",
     "output_type": "stream",
     "text": [
      "Validation accuracy: 0.700\n"
     ]
    },
    {
     "name": "stderr",
     "output_type": "stream",
     "text": [
      "Training (Epoch 18/50): 390it [00:26, 14.79it/s, loss=0.835, val_acc=0.7]\n",
      "Validating: 79it [00:02, 29.31it/s]\n"
     ]
    },
    {
     "name": "stdout",
     "output_type": "stream",
     "text": [
      "Validation accuracy: 0.708\n"
     ]
    },
    {
     "name": "stderr",
     "output_type": "stream",
     "text": [
      "Training (Epoch 19/50): 390it [00:26, 14.70it/s, loss=0.523, val_acc=0.708]\n",
      "Validating: 79it [00:02, 28.92it/s]\n"
     ]
    },
    {
     "name": "stdout",
     "output_type": "stream",
     "text": [
      "Validation accuracy: 0.708\n"
     ]
    },
    {
     "name": "stderr",
     "output_type": "stream",
     "text": [
      "Training (Epoch 20/50): 390it [00:26, 14.57it/s, loss=0.548, val_acc=0.708]\n",
      "Validating: 79it [00:02, 28.12it/s]\n"
     ]
    },
    {
     "name": "stdout",
     "output_type": "stream",
     "text": [
      "Validation accuracy: 0.714\n"
     ]
    },
    {
     "name": "stderr",
     "output_type": "stream",
     "text": [
      "Training (Epoch 21/50): 390it [00:26, 14.61it/s, loss=0.576, val_acc=0.714]\n",
      "Validating: 79it [00:02, 28.78it/s]\n"
     ]
    },
    {
     "name": "stdout",
     "output_type": "stream",
     "text": [
      "Validation accuracy: 0.715\n"
     ]
    },
    {
     "name": "stderr",
     "output_type": "stream",
     "text": [
      "Training (Epoch 22/50): 390it [00:26, 14.87it/s, loss=0.567, val_acc=0.715]\n",
      "Validating: 79it [00:02, 28.50it/s]\n"
     ]
    },
    {
     "name": "stdout",
     "output_type": "stream",
     "text": [
      "Validation accuracy: 0.714\n"
     ]
    },
    {
     "name": "stderr",
     "output_type": "stream",
     "text": [
      "Training (Epoch 23/50): 390it [00:26, 14.84it/s, loss=0.515, val_acc=0.714]\n",
      "Validating: 79it [00:02, 28.40it/s]\n"
     ]
    },
    {
     "name": "stdout",
     "output_type": "stream",
     "text": [
      "Validation accuracy: 0.721\n"
     ]
    },
    {
     "name": "stderr",
     "output_type": "stream",
     "text": [
      "Training (Epoch 24/50): 390it [00:26, 14.73it/s, loss=0.714, val_acc=0.721]\n",
      "Validating: 79it [00:03, 24.64it/s]\n"
     ]
    },
    {
     "name": "stdout",
     "output_type": "stream",
     "text": [
      "Validation accuracy: 0.723\n"
     ]
    },
    {
     "name": "stderr",
     "output_type": "stream",
     "text": [
      "Training (Epoch 25/50): 390it [00:26, 14.47it/s, loss=0.462, val_acc=0.723]\n",
      "Validating: 79it [00:02, 28.63it/s]\n"
     ]
    },
    {
     "name": "stdout",
     "output_type": "stream",
     "text": [
      "Validation accuracy: 0.729\n"
     ]
    },
    {
     "name": "stderr",
     "output_type": "stream",
     "text": [
      "Training (Epoch 26/50): 390it [00:26, 14.89it/s, loss=0.571, val_acc=0.729]\n",
      "Validating: 79it [00:02, 29.69it/s]\n"
     ]
    },
    {
     "name": "stdout",
     "output_type": "stream",
     "text": [
      "Validation accuracy: 0.720\n"
     ]
    },
    {
     "name": "stderr",
     "output_type": "stream",
     "text": [
      "Training (Epoch 27/50): 390it [00:26, 14.84it/s, loss=0.531, val_acc=0.72]\n",
      "Validating: 79it [00:02, 28.63it/s]\n"
     ]
    },
    {
     "name": "stdout",
     "output_type": "stream",
     "text": [
      "Validation accuracy: 0.722\n"
     ]
    },
    {
     "name": "stderr",
     "output_type": "stream",
     "text": [
      "Training (Epoch 28/50): 390it [00:26, 14.86it/s, loss=0.526, val_acc=0.722]\n",
      "Validating: 79it [00:02, 29.82it/s]\n"
     ]
    },
    {
     "name": "stdout",
     "output_type": "stream",
     "text": [
      "Validation accuracy: 0.728\n"
     ]
    },
    {
     "name": "stderr",
     "output_type": "stream",
     "text": [
      "Training (Epoch 29/50): 390it [00:26, 14.85it/s, loss=0.6, val_acc=0.728]  \n",
      "Validating: 79it [00:02, 29.35it/s]\n"
     ]
    },
    {
     "name": "stdout",
     "output_type": "stream",
     "text": [
      "Validation accuracy: 0.720\n"
     ]
    },
    {
     "name": "stderr",
     "output_type": "stream",
     "text": [
      "Training (Epoch 30/50): 390it [00:26, 14.75it/s, loss=0.538, val_acc=0.72]\n",
      "Validating: 79it [00:02, 29.44it/s]\n"
     ]
    },
    {
     "name": "stdout",
     "output_type": "stream",
     "text": [
      "Validation accuracy: 0.730\n"
     ]
    },
    {
     "name": "stderr",
     "output_type": "stream",
     "text": [
      "Training (Epoch 31/50): 390it [00:26, 14.88it/s, loss=0.416, val_acc=0.73]\n",
      "Validating: 79it [00:02, 29.43it/s]\n"
     ]
    },
    {
     "name": "stdout",
     "output_type": "stream",
     "text": [
      "Validation accuracy: 0.725\n"
     ]
    },
    {
     "name": "stderr",
     "output_type": "stream",
     "text": [
      "Training (Epoch 32/50): 390it [00:26, 14.86it/s, loss=0.39, val_acc=0.725] \n",
      "Validating: 79it [00:02, 28.94it/s]\n"
     ]
    },
    {
     "name": "stdout",
     "output_type": "stream",
     "text": [
      "Validation accuracy: 0.721\n"
     ]
    },
    {
     "name": "stderr",
     "output_type": "stream",
     "text": [
      "Training (Epoch 33/50): 390it [00:26, 14.74it/s, loss=0.344, val_acc=0.721]\n",
      "Validating: 79it [00:02, 29.77it/s]\n"
     ]
    },
    {
     "name": "stdout",
     "output_type": "stream",
     "text": [
      "Validation accuracy: 0.728\n"
     ]
    },
    {
     "name": "stderr",
     "output_type": "stream",
     "text": [
      "Training (Epoch 34/50): 390it [00:26, 14.91it/s, loss=0.414, val_acc=0.728]\n",
      "Validating: 79it [00:02, 28.75it/s]\n"
     ]
    },
    {
     "name": "stdout",
     "output_type": "stream",
     "text": [
      "Validation accuracy: 0.732\n"
     ]
    },
    {
     "name": "stderr",
     "output_type": "stream",
     "text": [
      "Training (Epoch 35/50): 390it [00:26, 14.93it/s, loss=0.317, val_acc=0.732]\n",
      "Validating: 79it [00:02, 29.73it/s]\n"
     ]
    },
    {
     "name": "stdout",
     "output_type": "stream",
     "text": [
      "Validation accuracy: 0.725\n"
     ]
    },
    {
     "name": "stderr",
     "output_type": "stream",
     "text": [
      "Training (Epoch 36/50): 390it [00:26, 14.94it/s, loss=0.346, val_acc=0.725]\n",
      "Validating: 79it [00:02, 30.66it/s]\n"
     ]
    },
    {
     "name": "stdout",
     "output_type": "stream",
     "text": [
      "Validation accuracy: 0.729\n"
     ]
    },
    {
     "name": "stderr",
     "output_type": "stream",
     "text": [
      "Training (Epoch 37/50): 390it [00:26, 14.92it/s, loss=0.315, val_acc=0.729]\n",
      "Validating: 79it [00:02, 30.37it/s]\n"
     ]
    },
    {
     "name": "stdout",
     "output_type": "stream",
     "text": [
      "Validation accuracy: 0.726\n"
     ]
    },
    {
     "name": "stderr",
     "output_type": "stream",
     "text": [
      "Training (Epoch 38/50): 390it [00:27, 14.00it/s, loss=0.31, val_acc=0.726] \n",
      "Validating: 79it [00:02, 29.17it/s]\n"
     ]
    },
    {
     "name": "stdout",
     "output_type": "stream",
     "text": [
      "Validation accuracy: 0.730\n"
     ]
    },
    {
     "name": "stderr",
     "output_type": "stream",
     "text": [
      "Training (Epoch 39/50): 390it [00:27, 13.98it/s, loss=0.438, val_acc=0.73]\n",
      "Validating: 79it [00:02, 27.86it/s]\n"
     ]
    },
    {
     "name": "stdout",
     "output_type": "stream",
     "text": [
      "Validation accuracy: 0.730\n"
     ]
    },
    {
     "name": "stderr",
     "output_type": "stream",
     "text": [
      "Training (Epoch 40/50): 390it [00:28, 13.58it/s, loss=0.342, val_acc=0.73]\n",
      "Validating: 79it [00:02, 26.59it/s]\n"
     ]
    },
    {
     "name": "stdout",
     "output_type": "stream",
     "text": [
      "Validation accuracy: 0.727\n"
     ]
    },
    {
     "name": "stderr",
     "output_type": "stream",
     "text": [
      "Training (Epoch 41/50): 390it [00:27, 14.00it/s, loss=0.21, val_acc=0.727] \n",
      "Validating: 79it [00:02, 27.73it/s]\n"
     ]
    },
    {
     "name": "stdout",
     "output_type": "stream",
     "text": [
      "Validation accuracy: 0.732\n"
     ]
    },
    {
     "name": "stderr",
     "output_type": "stream",
     "text": [
      "Training (Epoch 42/50): 390it [00:28, 13.81it/s, loss=0.359, val_acc=0.732]\n",
      "Validating: 79it [00:02, 27.78it/s]\n"
     ]
    },
    {
     "name": "stdout",
     "output_type": "stream",
     "text": [
      "Validation accuracy: 0.732\n"
     ]
    },
    {
     "name": "stderr",
     "output_type": "stream",
     "text": [
      "Training (Epoch 43/50): 390it [00:27, 13.99it/s, loss=0.203, val_acc=0.732]\n",
      "Validating: 79it [00:02, 27.02it/s]\n"
     ]
    },
    {
     "name": "stdout",
     "output_type": "stream",
     "text": [
      "Validation accuracy: 0.731\n"
     ]
    },
    {
     "name": "stderr",
     "output_type": "stream",
     "text": [
      "Training (Epoch 44/50): 390it [00:27, 14.03it/s, loss=0.35, val_acc=0.731] \n",
      "Validating: 79it [00:02, 27.78it/s]\n"
     ]
    },
    {
     "name": "stdout",
     "output_type": "stream",
     "text": [
      "Validation accuracy: 0.738\n"
     ]
    },
    {
     "name": "stderr",
     "output_type": "stream",
     "text": [
      "Training (Epoch 45/50): 390it [00:27, 14.09it/s, loss=0.229, val_acc=0.738]\n",
      "Validating: 79it [00:03, 26.07it/s]\n"
     ]
    },
    {
     "name": "stdout",
     "output_type": "stream",
     "text": [
      "Validation accuracy: 0.729\n"
     ]
    },
    {
     "name": "stderr",
     "output_type": "stream",
     "text": [
      "Training (Epoch 46/50): 390it [00:28, 13.83it/s, loss=0.256, val_acc=0.729] \n",
      "Validating: 79it [00:02, 27.21it/s]\n"
     ]
    },
    {
     "name": "stdout",
     "output_type": "stream",
     "text": [
      "Validation accuracy: 0.731\n"
     ]
    },
    {
     "name": "stderr",
     "output_type": "stream",
     "text": [
      "Training (Epoch 47/50): 390it [00:28, 13.61it/s, loss=0.215, val_acc=0.731] \n",
      "Validating: 79it [00:02, 26.87it/s]\n"
     ]
    },
    {
     "name": "stdout",
     "output_type": "stream",
     "text": [
      "Validation accuracy: 0.730\n"
     ]
    },
    {
     "name": "stderr",
     "output_type": "stream",
     "text": [
      "Training (Epoch 48/50): 390it [00:28, 13.71it/s, loss=0.216, val_acc=0.73] \n",
      "Validating: 79it [00:02, 26.97it/s]\n"
     ]
    },
    {
     "name": "stdout",
     "output_type": "stream",
     "text": [
      "Validation accuracy: 0.732\n"
     ]
    },
    {
     "name": "stderr",
     "output_type": "stream",
     "text": [
      "Training (Epoch 49/50): 390it [00:27, 14.10it/s, loss=0.138, val_acc=0.732] \n",
      "Validating: 79it [00:02, 27.10it/s]\n"
     ]
    },
    {
     "name": "stdout",
     "output_type": "stream",
     "text": [
      "Validation accuracy: 0.732\n"
     ]
    },
    {
     "name": "stderr",
     "output_type": "stream",
     "text": [
      "Training (Epoch 50/50): 390it [00:27, 14.07it/s, loss=0.233, val_acc=0.732] \n",
      "Validating: 79it [00:02, 28.02it/s]"
     ]
    },
    {
     "name": "stdout",
     "output_type": "stream",
     "text": [
      "Validation accuracy: 0.737\n"
     ]
    },
    {
     "name": "stderr",
     "output_type": "stream",
     "text": [
      "\n"
     ]
    },
    {
     "data": {
      "image/png": "[encoded data removed]",
      "text/plain": [
       "<Figure size 600x300 with 2 Axes>"
      ]
     },
     "metadata": {},
     "output_type": "display_data"
    }
   ],
   "source": [
    "transforms_val = T.Compose([\n",
    "    T.ToTensor(),\n",
    "    T.Normalize([0.49139968, 0.48215841, 0.44653091], [0.24703223, 0.24348513, 0.26158784]),\n",
    "])\n",
    "transforms_train = T.Compose([\n",
    "    T.RandomHorizontalFlip(),\n",
    "    T.RandomResizedCrop((32, 32), scale=(0.8, 1.0), ratio=(0.9, 1.1)),\n",
    "    T.ToTensor(),\n",
    "    T.Normalize([0.49139968, 0.48215841, 0.44653091], [0.24703223, 0.24348513, 0.26158784]),\n",
    "])\n",
    "\n",
    "model = VisionTransformer().to(device)\n",
    "optim = torch.optim.Adam(model.parameters(), lr=LR)\n",
    "loss_fn = nn.CrossEntropyLoss()\n",
    "\n",
    "\n",
    "dataloader_train = DataLoader(CIFAR10(root=DATASET_CACHE_DIR, train=True, download=True, transform=transforms_train), batch_size=BATCH_SIZE, shuffle=True, drop_last=True, num_workers=4)\n",
    "dataloader_val = DataLoader(CIFAR10(root=DATASET_CACHE_DIR, train=False, download=True, transform=transforms_val), batch_size=BATCH_SIZE, shuffle=False, drop_last=False, num_workers=4)\n",
    "\n",
    "train_losses = []\n",
    "val_accs = []\n",
    "\n",
    "for i_epoch in range(N_EPOCHS):\n",
    "    for i_step, (images, labels) in (pbar := tqdm(enumerate(dataloader_train), desc=f'Training (Epoch {i_epoch + 1}/{N_EPOCHS})')):\n",
    "        optim.zero_grad()\n",
    "        loss = loss_fn(model(images.to(device)), labels.to(device))\n",
    "        loss.backward()\n",
    "        optim.step()\n",
    "\n",
    "        # Some logging\n",
    "        loss_val = loss.detach().item()\n",
    "        train_losses.append(loss_val)\n",
    "        pbar.set_postfix({ 'loss': loss_val } | ({ 'val_acc': val_accs[-1] } if len(val_accs) > 0 else { }))\n",
    "    \n",
    "    # Validation every epoch\n",
    "    with torch.no_grad():\n",
    "        n_total, n_correct = 0, 0\n",
    "        for i_step, (images, labels) in (pbar := tqdm(enumerate(dataloader_val), desc='Validating')):\n",
    "            predicted = model(images.to(device)).argmax(dim=-1)\n",
    "            n_correct += (predicted.cpu() == labels).float().sum().item()\n",
    "            n_total += labels.shape[0]\n",
    "        val_accs.append(n_correct / n_total)\n",
    "        print(f'Validation accuracy: {val_accs[-1]:.3f}')\n",
    "\n",
    "plt.figure(figsize=(6, 3))\n",
    "plt.subplot(121)\n",
    "plt.plot(train_losses)\n",
    "plt.xlabel('Steps')\n",
    "plt.ylabel('Training Loss')\n",
    "plt.subplot(122)\n",
    "plt.plot(val_accs)\n",
    "plt.xlabel('Epochs')\n",
    "plt.ylabel('Validation Accuracy')\n",
    "plt.tight_layout()\n",
    "plt.show()"
   ]
  }
 ],
 "metadata": {
  "kernelspec": {
   "display_name": "pytorch2.3",
   "language": "python",
   "name": "python3"
  },
  "language_info": {
   "codemirror_mode": {
    "name": "ipython",
    "version": 3
   },
   "file_extension": ".py",
   "mimetype": "text/x-python",
   "name": "python",
   "nbconvert_exporter": "python",
   "pygments_lexer": "ipython3",
   "version": "3.12.3"
  }
 },
 "nbformat": 4,
 "nbformat_minor": 2
}
